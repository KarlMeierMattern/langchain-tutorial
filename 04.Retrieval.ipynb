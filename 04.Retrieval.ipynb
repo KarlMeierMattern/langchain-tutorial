{
 "cells": [
  {
   "cell_type": "markdown",
   "metadata": {},
   "source": [
    "# **04. Retrieval**"
   ]
  },
  {
   "cell_type": "code",
   "execution_count": 1,
   "metadata": {},
   "outputs": [],
   "source": [
    "import os\n",
    "import openai\n",
    "import sys\n",
    "sys.path.append('../..')\n",
    "\n",
    "from dotenv import load_dotenv, find_dotenv\n",
    "_ = load_dotenv(find_dotenv()) # read local .env file\n",
    "\n",
    "openai.api_key  = os.environ['OPENAI_API_KEY']"
   ]
  },
  {
   "cell_type": "code",
   "execution_count": 2,
   "metadata": {},
   "outputs": [
    {
     "name": "stdout",
     "output_type": "stream",
     "text": [
      "Collecting lark\n",
      "  Downloading lark-1.2.2-py3-none-any.whl.metadata (1.8 kB)\n",
      "Downloading lark-1.2.2-py3-none-any.whl (111 kB)\n",
      "Installing collected packages: lark\n",
      "Successfully installed lark-1.2.2\n"
     ]
    }
   ],
   "source": [
    "! pip install lark"
   ]
  },
  {
   "cell_type": "code",
   "execution_count": 4,
   "metadata": {},
   "outputs": [],
   "source": [
    "from langchain.vectorstores import Chroma\n",
    "from langchain.embeddings.openai import OpenAIEmbeddings\n",
    "\n",
    "persist_directory = 'docs/chroma/'\n"
   ]
  },
  {
   "cell_type": "code",
   "execution_count": 6,
   "metadata": {},
   "outputs": [
    {
     "name": "stderr",
     "output_type": "stream",
     "text": [
      "/var/folders/xk/r3ls7bqd0b3fdrwsj9bcv3t40000gn/T/ipykernel_17346/507525069.py:2: LangChainDeprecationWarning: The class `Chroma` was deprecated in LangChain 0.2.9 and will be removed in 1.0. An updated version of the class exists in the :class:`~langchain-chroma package and should be used instead. To use it run `pip install -U :class:`~langchain-chroma` and import as `from :class:`~langchain_chroma import Chroma``.\n",
      "  vectordb = Chroma (\n"
     ]
    }
   ],
   "source": [
    "embedding = OpenAIEmbeddings()\n",
    "vectordb = Chroma (\n",
    "    embedding_function=embedding,\n",
    "    persist_directory=persist_directory\n",
    ")"
   ]
  },
  {
   "cell_type": "code",
   "execution_count": 7,
   "metadata": {},
   "outputs": [
    {
     "name": "stdout",
     "output_type": "stream",
     "text": [
      "6087\n"
     ]
    }
   ],
   "source": [
    "print(vectordb._collection.count())"
   ]
  },
  {
   "cell_type": "markdown",
   "metadata": {},
   "source": [
    "## **Maximal Marginal Relevance (MRR)**\n",
    "In addition to similarity search, we can also do maximal marginal relevance search. This is a search that tries to return a diverse set of documents. It does this by not only considering the most similar documents, but also documents that are relevant.\n",
    "\n",
    "`fetch_k` retrieves the most similar documents to the query, while `k` selects and returns the most diverse results."
   ]
  },
  {
   "cell_type": "code",
   "execution_count": 15,
   "metadata": {},
   "outputs": [],
   "source": [
    "question = \"what are the prerequisites to study an accounting postgraduate degree?\"\n",
    "docs_ss = vectordb.similarity_search(question,k=4)"
   ]
  },
  {
   "cell_type": "code",
   "execution_count": 16,
   "metadata": {},
   "outputs": [
    {
     "data": {
      "text/plain": [
       "'20    RULES FOR POSTGRADUATE DIPLOMAS \\nEntrance requirements:  \\n1. A graduate of this Un iversity wh'"
      ]
     },
     "execution_count": 16,
     "metadata": {},
     "output_type": "execute_result"
    }
   ],
   "source": [
    "docs_ss[0].page_content[:100]"
   ]
  },
  {
   "cell_type": "code",
   "execution_count": 17,
   "metadata": {},
   "outputs": [
    {
     "data": {
      "text/plain": [
       "'40    RULES FOR POSTGRADUATE DEGREES\\nBachelor of Commerce Honours \\nspecialising in ACCOUNTI NG [CH00'"
      ]
     },
     "execution_count": 17,
     "metadata": {},
     "output_type": "execute_result"
    }
   ],
   "source": [
    "docs_ss[1].page_content[:100]"
   ]
  },
  {
   "cell_type": "code",
   "execution_count": 60,
   "metadata": {},
   "outputs": [],
   "source": [
    "docs_mmr = vectordb.max_marginal_relevance_search(question, k=3)"
   ]
  },
  {
   "cell_type": "code",
   "execution_count": 61,
   "metadata": {},
   "outputs": [
    {
     "data": {
      "text/plain": [
       "'and professions. Topics covered include: exploratory data analysis and summary statistics; probabili'"
      ]
     },
     "execution_count": 61,
     "metadata": {},
     "output_type": "execute_result"
    }
   ],
   "source": [
    "docs_mmr[0].page_content[:100]"
   ]
  },
  {
   "cell_type": "code",
   "execution_count": 62,
   "metadata": {},
   "outputs": [
    {
     "data": {
      "text/plain": [
       "'Science or Life Sciences.   NOTE: Preference will be given to students registered in the Science \\nFa'"
      ]
     },
     "execution_count": 62,
     "metadata": {},
     "output_type": "execute_result"
    }
   ],
   "source": [
    "# response shows diversity\n",
    "docs_mmr[1].page_content[:100]"
   ]
  },
  {
   "cell_type": "markdown",
   "metadata": {},
   "source": [
    "## **LLM aided retrieval**\n",
    "Use an LLM to convert part of the user's query into a search query. This is relevant where the query has a semantic component as well as a filter parameter (like a date, or a specific type of document)."
   ]
  },
  {
   "cell_type": "markdown",
   "metadata": {},
   "source": [
    "Many vectorstores support operations on `metadata`, which provides context for each embedded chunk."
   ]
  },
  {
   "cell_type": "markdown",
   "metadata": {},
   "source": [
    "### **Manual implementation using filtering**"
   ]
  },
  {
   "cell_type": "code",
   "execution_count": 21,
   "metadata": {},
   "outputs": [],
   "source": [
    "question = \"what 5 courses can i take if i am an engineering postgrad degree?\""
   ]
  },
  {
   "cell_type": "code",
   "execution_count": 22,
   "metadata": {},
   "outputs": [],
   "source": [
    "docs = vectordb.similarity_search(\n",
    "    question,\n",
    "    k=3,\n",
    "    filter={\"source\":\"assets/4.Engineering-postgrad.pdf\"}\n",
    ")"
   ]
  },
  {
   "cell_type": "code",
   "execution_count": 23,
   "metadata": {},
   "outputs": [
    {
     "name": "stdout",
     "output_type": "stream",
     "text": [
      "{'page': 99, 'source': 'assets/4.Engineering-postgrad.pdf'}\n",
      "{'page': 99, 'source': 'assets/4.Engineering-postgrad.pdf'}\n",
      "{'page': 258, 'source': 'assets/4.Engineering-postgrad.pdf'}\n"
     ]
    }
   ],
   "source": [
    "for d in docs:\n",
    "    print(d.metadata)"
   ]
  },
  {
   "cell_type": "markdown",
   "metadata": {},
   "source": [
    "### **Using self-query retriever**\n",
    "\n",
    "We can use `SelfQueryRetriever`, which uses an LLM to extract:\n",
    " \n",
    "1. The `query` string to use for vector search\n",
    "2. A metadata filter to pass in as well"
   ]
  },
  {
   "cell_type": "code",
   "execution_count": 30,
   "metadata": {},
   "outputs": [
    {
     "name": "stdout",
     "output_type": "stream",
     "text": [
      "Collecting langchain-openai\n",
      "  Downloading langchain_openai-0.2.1-py3-none-any.whl.metadata (2.6 kB)\n",
      "Requirement already satisfied: langchain-core<0.4,>=0.3 in /opt/miniconda3/envs/langEnv/lib/python3.12/site-packages (from langchain-openai) (0.3.7)\n",
      "Requirement already satisfied: openai<2.0.0,>=1.40.0 in /opt/miniconda3/envs/langEnv/lib/python3.12/site-packages (from langchain-openai) (1.51.0)\n",
      "Requirement already satisfied: tiktoken<1,>=0.7 in /opt/miniconda3/envs/langEnv/lib/python3.12/site-packages (from langchain-openai) (0.7.0)\n",
      "Requirement already satisfied: PyYAML>=5.3 in /opt/miniconda3/envs/langEnv/lib/python3.12/site-packages (from langchain-core<0.4,>=0.3->langchain-openai) (6.0.2)\n",
      "Requirement already satisfied: jsonpatch<2.0,>=1.33 in /opt/miniconda3/envs/langEnv/lib/python3.12/site-packages (from langchain-core<0.4,>=0.3->langchain-openai) (1.33)\n",
      "Requirement already satisfied: langsmith<0.2.0,>=0.1.125 in /opt/miniconda3/envs/langEnv/lib/python3.12/site-packages (from langchain-core<0.4,>=0.3->langchain-openai) (0.1.129)\n",
      "Requirement already satisfied: packaging<25,>=23.2 in /opt/miniconda3/envs/langEnv/lib/python3.12/site-packages (from langchain-core<0.4,>=0.3->langchain-openai) (24.1)\n",
      "Requirement already satisfied: pydantic<3.0.0,>=2.7.4 in /opt/miniconda3/envs/langEnv/lib/python3.12/site-packages (from langchain-core<0.4,>=0.3->langchain-openai) (2.9.2)\n",
      "Requirement already satisfied: tenacity!=8.4.0,<9.0.0,>=8.1.0 in /opt/miniconda3/envs/langEnv/lib/python3.12/site-packages (from langchain-core<0.4,>=0.3->langchain-openai) (8.5.0)\n",
      "Requirement already satisfied: typing-extensions>=4.7 in /opt/miniconda3/envs/langEnv/lib/python3.12/site-packages (from langchain-core<0.4,>=0.3->langchain-openai) (4.12.2)\n",
      "Requirement already satisfied: anyio<5,>=3.5.0 in /opt/miniconda3/envs/langEnv/lib/python3.12/site-packages (from openai<2.0.0,>=1.40.0->langchain-openai) (4.6.0)\n",
      "Requirement already satisfied: distro<2,>=1.7.0 in /opt/miniconda3/envs/langEnv/lib/python3.12/site-packages (from openai<2.0.0,>=1.40.0->langchain-openai) (1.9.0)\n",
      "Requirement already satisfied: httpx<1,>=0.23.0 in /opt/miniconda3/envs/langEnv/lib/python3.12/site-packages (from openai<2.0.0,>=1.40.0->langchain-openai) (0.27.2)\n",
      "Requirement already satisfied: jiter<1,>=0.4.0 in /opt/miniconda3/envs/langEnv/lib/python3.12/site-packages (from openai<2.0.0,>=1.40.0->langchain-openai) (0.5.0)\n",
      "Requirement already satisfied: sniffio in /opt/miniconda3/envs/langEnv/lib/python3.12/site-packages (from openai<2.0.0,>=1.40.0->langchain-openai) (1.3.1)\n",
      "Requirement already satisfied: tqdm>4 in /opt/miniconda3/envs/langEnv/lib/python3.12/site-packages (from openai<2.0.0,>=1.40.0->langchain-openai) (4.66.5)\n",
      "Requirement already satisfied: regex>=2022.1.18 in /opt/miniconda3/envs/langEnv/lib/python3.12/site-packages (from tiktoken<1,>=0.7->langchain-openai) (2024.9.11)\n",
      "Requirement already satisfied: requests>=2.26.0 in /opt/miniconda3/envs/langEnv/lib/python3.12/site-packages (from tiktoken<1,>=0.7->langchain-openai) (2.32.3)\n",
      "Requirement already satisfied: idna>=2.8 in /opt/miniconda3/envs/langEnv/lib/python3.12/site-packages (from anyio<5,>=3.5.0->openai<2.0.0,>=1.40.0->langchain-openai) (3.10)\n",
      "Requirement already satisfied: certifi in /opt/miniconda3/envs/langEnv/lib/python3.12/site-packages (from httpx<1,>=0.23.0->openai<2.0.0,>=1.40.0->langchain-openai) (2024.8.30)\n",
      "Requirement already satisfied: httpcore==1.* in /opt/miniconda3/envs/langEnv/lib/python3.12/site-packages (from httpx<1,>=0.23.0->openai<2.0.0,>=1.40.0->langchain-openai) (1.0.6)\n",
      "Requirement already satisfied: h11<0.15,>=0.13 in /opt/miniconda3/envs/langEnv/lib/python3.12/site-packages (from httpcore==1.*->httpx<1,>=0.23.0->openai<2.0.0,>=1.40.0->langchain-openai) (0.14.0)\n",
      "Requirement already satisfied: jsonpointer>=1.9 in /opt/miniconda3/envs/langEnv/lib/python3.12/site-packages (from jsonpatch<2.0,>=1.33->langchain-core<0.4,>=0.3->langchain-openai) (3.0.0)\n",
      "Requirement already satisfied: orjson<4.0.0,>=3.9.14 in /opt/miniconda3/envs/langEnv/lib/python3.12/site-packages (from langsmith<0.2.0,>=0.1.125->langchain-core<0.4,>=0.3->langchain-openai) (3.10.7)\n",
      "Requirement already satisfied: annotated-types>=0.6.0 in /opt/miniconda3/envs/langEnv/lib/python3.12/site-packages (from pydantic<3.0.0,>=2.7.4->langchain-core<0.4,>=0.3->langchain-openai) (0.7.0)\n",
      "Requirement already satisfied: pydantic-core==2.23.4 in /opt/miniconda3/envs/langEnv/lib/python3.12/site-packages (from pydantic<3.0.0,>=2.7.4->langchain-core<0.4,>=0.3->langchain-openai) (2.23.4)\n",
      "Requirement already satisfied: charset-normalizer<4,>=2 in /opt/miniconda3/envs/langEnv/lib/python3.12/site-packages (from requests>=2.26.0->tiktoken<1,>=0.7->langchain-openai) (3.3.2)\n",
      "Requirement already satisfied: urllib3<3,>=1.21.1 in /opt/miniconda3/envs/langEnv/lib/python3.12/site-packages (from requests>=2.26.0->tiktoken<1,>=0.7->langchain-openai) (2.2.3)\n",
      "Downloading langchain_openai-0.2.1-py3-none-any.whl (49 kB)\n",
      "Installing collected packages: langchain-openai\n",
      "Successfully installed langchain-openai-0.2.1\n"
     ]
    }
   ],
   "source": [
    "! pip install -U langchain-openai"
   ]
  },
  {
   "cell_type": "code",
   "execution_count": 31,
   "metadata": {},
   "outputs": [],
   "source": [
    "from langchain_openai import OpenAI\n",
    "from langchain.retrievers.self_query.base import SelfQueryRetriever\n",
    "from langchain.chains.query_constructor.base import AttributeInfo"
   ]
  },
  {
   "cell_type": "code",
   "execution_count": 25,
   "metadata": {},
   "outputs": [],
   "source": [
    "metadata_field_info = [\n",
    "    AttributeInfo(\n",
    "        name=\"source\",\n",
    "        description=\"The lecture the chunk is from, should be one of `assets/1.Commerce-undergrad.pdf` or `assets/2.Commerce-postgrad.pdf`\",\n",
    "        type=\"string\",\n",
    "    ),\n",
    "    AttributeInfo(\n",
    "        name=\"page\",\n",
    "        description=\"The page from the lecture\",\n",
    "        type=\"integer\",\n",
    "    ),\n",
    "]"
   ]
  },
  {
   "cell_type": "code",
   "execution_count": 32,
   "metadata": {},
   "outputs": [],
   "source": [
    "document_content_description = \"Lecture notes\"\n",
    "llm = OpenAI(model='gpt-3.5-turbo-instruct', temperature=0)\n",
    "retriever = SelfQueryRetriever.from_llm(\n",
    "    llm,\n",
    "    vectordb,\n",
    "    document_content_description,\n",
    "    metadata_field_info,\n",
    "    verbose=True\n",
    ")"
   ]
  },
  {
   "cell_type": "code",
   "execution_count": 33,
   "metadata": {},
   "outputs": [],
   "source": [
    "question = \"what postgrad course can i take after studying an undergrad in accounting and finance?\""
   ]
  },
  {
   "cell_type": "code",
   "execution_count": 34,
   "metadata": {},
   "outputs": [],
   "source": [
    "docs = retriever.get_relevant_documents(question)"
   ]
  },
  {
   "cell_type": "code",
   "execution_count": 35,
   "metadata": {},
   "outputs": [
    {
     "name": "stdout",
     "output_type": "stream",
     "text": [
      "{'page': 254, 'source': 'assets/2.Commerce-postgrad.pdf'}\n",
      "{'page': 23, 'source': 'assets/2.Commerce-postgrad.pdf'}\n",
      "{'page': 350, 'source': 'assets/2.Commerce-postgrad.pdf'}\n",
      "{'page': 36, 'source': 'assets/2.Commerce-postgrad.pdf'}\n"
     ]
    }
   ],
   "source": [
    "for d in docs:\n",
    "    print(d.metadata)"
   ]
  },
  {
   "cell_type": "markdown",
   "metadata": {},
   "source": [
    "## **Compression**\n",
    "Compression is the process of reducing the size of a document. Increase the number of results you can put in the context window by shrinking the responses to only the most relevant parts. Uses a compression LLM during an intermediate step."
   ]
  },
  {
   "cell_type": "code",
   "execution_count": 36,
   "metadata": {},
   "outputs": [],
   "source": [
    "from langchain.retrievers import ContextualCompressionRetriever\n",
    "from langchain.retrievers.document_compressors import LLMChainExtractor"
   ]
  },
  {
   "cell_type": "code",
   "execution_count": 37,
   "metadata": {},
   "outputs": [],
   "source": [
    "def pretty_print_docs(docs):\n",
    "    print(f\"\\n{'-' * 100}\\n\".join([f\"Document {i+1}:\\n\\n\" + d.page_content for i, d in enumerate(docs)]))"
   ]
  },
  {
   "cell_type": "code",
   "execution_count": 38,
   "metadata": {},
   "outputs": [],
   "source": [
    "# The compressor reduces the size of retrieved documents by extracting only the most relevant information\n",
    "llm = OpenAI(temperature=0, model=\"gpt-3.5-turbo-instruct\")\n",
    "compressor = LLMChainExtractor.from_llm(llm)"
   ]
  },
  {
   "cell_type": "code",
   "execution_count": 39,
   "metadata": {},
   "outputs": [],
   "source": [
    "compression_retriever = ContextualCompressionRetriever(\n",
    "    base_compressor=compressor,\n",
    "    base_retriever=vectordb.as_retriever()\n",
    ")"
   ]
  },
  {
   "cell_type": "code",
   "execution_count": 40,
   "metadata": {},
   "outputs": [
    {
     "name": "stdout",
     "output_type": "stream",
     "text": [
      "Document 1:\n",
      "\n",
      "- Bachelor of Commerce Honours specialising in ACCOUNTI NG [CH001ACC0 1]\n",
      "- Postgraduate Diplo ma in Accounting (PGDA)\n",
      "- Financial Reporting IV, ACC4023, Corporate Governance III, ACC4025, and Specialised Topics in Accounting and Research Report, ACC4050\n",
      "- Initial Test of Competence (ITC) of the South African Institute of Chartered Accountants (SAICA)\n",
      "- Entrance requirements: A graduate of this University who has completed the prescribed courses for the BCom degree (Financial Accounting CA option) or the BBusSc degree (Finance with Accounting option) and who has obtained: a minimum average mark of 65% for the following courses: ACC3009 Financial Reporting III, ACC3022 Corporate Governance II, ACC3004 Taxation II and ACC3023\n",
      "----------------------------------------------------------------------------------------------------\n",
      "Document 2:\n",
      "\n",
      "1. A graduate of this Un iversity who has completed the prescribed courses for the BCom \n",
      "degree (Financial Accounting CA option) or the BBusSc degree (Finance with \n",
      "Accounting option) in the minimum time to graduation, with a mark of at least 55% in \n",
      "each of ACC3 009 Financial  Reporti ng III, ACC3022 Governance, Audit and Assurance \n",
      "II, ACC3004 Taxation II and ACC3023 Management Accounting II, all in the preceding \n",
      "year or the year prior to the preceding year.\n",
      "2. A graduate of this University from the BCom degree (Financ ial Accounting CA opt ion) \n",
      "or the BBusSc degree (Finance with Accounting option) who has completed ACC3009 \n",
      "Financial Reporting III, ACC3022 Corporate Governance II, ACC3004 Taxation II and \n",
      "either FTX4057 Applied Investments or ACC3023 Management Accounting II over a \n",
      "period exce eding one year and has obtained a mark of at least 55% in each of ACC3009 \n",
      "Financial Reporting III, ACC3022 Governance, Audit and Assurance II, ACC3004 \n",
      "Taxation II and ACC3023 Management Accounting II, all in the preceding year or the \n",
      "year prior to the\n",
      "----------------------------------------------------------------------------------------------------\n",
      "Document 3:\n",
      "\n",
      "- GSB3004Z FINANCE AND ACCOUNTING MANAGEMENT\n",
      "- Course outline: This course focuses on developing literacy in matters pertaining to accounting and finance.\n",
      "- In the first half, students are taught to read, understand and interpret financial statements.\n",
      "- It will equip students with the skills to appreciate the role of accounting in making decisions and controlling and planning the operations of an organisation, and to interpret and use financial information for decision-making purposes.\n",
      "- In the second half, the course explores how good financial management lies at the heart of a successful and sustainable business.\n",
      "- Students are introduced to standard finance techniques and concepts that are useful in the practice of financial management across a range of business areas.\n",
      "- DP requirements: Attendance at all contact sessions except with permission of the programme convener. Submission of assessments by the due date.\n",
      "- Assessment: The course is assessed by means of individual assignments and a final examination.\n",
      "- In order to pass the course, students must obtain a DP and a minimum of 50% on individual assessment components.\n",
      "----------------------------------------------------------------------------------------------------\n",
      "Document 4:\n",
      "\n",
      "- GSB3004Z FINANCE AND ACCOUNTING MANAGEMENT\n",
      "- Course outline: This course focuses on developing literacy in matters pertaining to accounting and finance.\n",
      "- In the first half, students are taught to read, understand and interpret financial statements.\n",
      "- It will equip students with the skills to appreciate the role of accounting in making decisions and controlling and planning the operations of an organisation, and to interpret and use financial information for decision-making purposes.\n",
      "- In the second half, the course explores how good financial management lies at the heart of a successful and sustainable business.\n",
      "- Students are introduced to standard finance techniques and concepts that are useful in the practice of financial management across a range of business areas.\n",
      "- DP requirements: Attendance at all contact sessions except with permission of the programme convener. Submission of assessments by the due date.\n",
      "- Assessment: The course is assessed by means of individual assignments and a final examination.\n",
      "- In order to pass the course, students must obtain a DP and a minimum of 50% on individual assessment components.\n"
     ]
    }
   ],
   "source": [
    "question = \"what postgrad course can i take after studying an undergrad in accounting and finance?\"\n",
    "compressed_docs = compression_retriever.get_relevant_documents(question)\n",
    "pretty_print_docs(compressed_docs)"
   ]
  },
  {
   "cell_type": "markdown",
   "metadata": {},
   "source": [
    "## **Combining various techniques**"
   ]
  },
  {
   "cell_type": "code",
   "execution_count": 41,
   "metadata": {},
   "outputs": [],
   "source": [
    "compression_retriever = ContextualCompressionRetriever(\n",
    "    base_compressor=compressor,\n",
    "    base_retriever=vectordb.as_retriever(search_type = \"mmr\")\n",
    ")"
   ]
  },
  {
   "cell_type": "code",
   "execution_count": 42,
   "metadata": {},
   "outputs": [
    {
     "name": "stdout",
     "output_type": "stream",
     "text": [
      "Document 1:\n",
      "\n",
      "- Bachelor of Commerce Honours specialising in ACCOUNTI NG [CH001ACC0 1]\n",
      "- Postgraduate Diplo ma in Accounting (PGDA)\n",
      "- Financial Reporting IV, ACC4023, Corporate Governance III, ACC4025, and Specialised Topics in Accounting and Research Report, ACC4050\n",
      "- Initial Test of Competence (ITC) of the South African Institute of Chartered Accountants (SAICA)\n",
      "- Entrance requirements: A graduate of this University who has completed the prescribed courses for the BCom degree (Financial Accounting CA option) or the BBusSc degree (Finance with Accounting option) and who has obtained: a minimum average mark of 65% for the following courses: ACC3009 Financial Reporting III, ACC3022 Corporate Governance II, ACC3004 Taxation II and ACC3023\n",
      "----------------------------------------------------------------------------------------------------\n",
      "Document 2:\n",
      "\n",
      "- GSB3004Z FINANCE AND ACCOUNTING MANAGEMENT\n",
      "- Course outline: This course focuses on developing literacy in matters pertaining to accounting and finance.\n",
      "- In the first half, students are taught to read, understand and interpret financial statements.\n",
      "- It will equip students with the skills to appreciate the role of accounting in making decisions and controlling and planning the operations of an organisation, and to interpret and use financial information for decision-making purposes.\n",
      "- In the second half, the course explores how good financial management lies at the heart of a successful and sustainable business.\n",
      "- Students are introduced to standard finance techniques and concepts that are useful in the practice of financial management across a range of business areas.\n",
      "- DP requirements: Attendance at all contact sessions except with permission of the programme convener. Submission of assessments by the due date.\n",
      "- Assessment: The course is assessed by means of individual assignments and a final examination.\n",
      "- In order to pass the course, students must obtain a DP and a minimum of 50% on individual assessment components.\n",
      "----------------------------------------------------------------------------------------------------\n",
      "Document 3:\n",
      "\n",
      "Postgraduate Diploma in Accounting\n",
      "Postgraduate Diploma in Finance\n",
      "Postgraduate Diploma in Management in Business Communication\n",
      "Postgraduate Diploma in Management in Entrepreneurship\n",
      "Postgraduate Diploma in Management in Information Systems\n",
      "Postgraduate Diploma in Management in Marketing\n",
      "Postgraduate Diploma in Management Practice (Customised/Open Programme)\n",
      "Postgraduate Diploma in Management in Sport\n",
      "Post Graduate Diploma in Survey Data Analysis\n",
      "Postgraduate Diploma in Development Finance\n",
      "----------------------------------------------------------------------------------------------------\n",
      "Document 4:\n",
      "\n",
      "The qualification is part -time by coursework and a 60 -credit minor dis sertation.  \n",
      "The aim is to equip successful candidates with the ski lls to perform research, analysis and valuations \n",
      "in all the areas of financial management, including capital markets, derivatives, corporate fin ance, \n",
      "accounting and company valuations.\n"
     ]
    }
   ],
   "source": [
    "question = \"what postgrad course can i take after studying an undergrad in accounting and finance?\"\n",
    "compressed_docs = compression_retriever.get_relevant_documents(question)\n",
    "pretty_print_docs(compressed_docs)"
   ]
  },
  {
   "cell_type": "markdown",
   "metadata": {},
   "source": [
    "## **Other types of retrieval**\n",
    "These don't use vector stores, but instead use more traditional machine learning models."
   ]
  },
  {
   "cell_type": "code",
   "execution_count": 46,
   "metadata": {},
   "outputs": [
    {
     "name": "stdout",
     "output_type": "stream",
     "text": [
      "Collecting scikit-learn\n",
      "  Downloading scikit_learn-1.5.2-cp312-cp312-macosx_12_0_arm64.whl.metadata (13 kB)\n",
      "Requirement already satisfied: numpy>=1.19.5 in /opt/miniconda3/envs/langEnv/lib/python3.12/site-packages (from scikit-learn) (1.26.4)\n",
      "Collecting scipy>=1.6.0 (from scikit-learn)\n",
      "  Downloading scipy-1.14.1-cp312-cp312-macosx_14_0_arm64.whl.metadata (60 kB)\n",
      "Collecting joblib>=1.2.0 (from scikit-learn)\n",
      "  Downloading joblib-1.4.2-py3-none-any.whl.metadata (5.4 kB)\n",
      "Collecting threadpoolctl>=3.1.0 (from scikit-learn)\n",
      "  Downloading threadpoolctl-3.5.0-py3-none-any.whl.metadata (13 kB)\n",
      "Downloading scikit_learn-1.5.2-cp312-cp312-macosx_12_0_arm64.whl (11.0 MB)\n",
      "\u001b[2K   \u001b[90m━━━━━━━━━━━━━━━━━━━━━━━━━━━━━━━━━━━━━━━━\u001b[0m \u001b[32m11.0/11.0 MB\u001b[0m \u001b[31m7.1 MB/s\u001b[0m eta \u001b[36m0:00:00\u001b[0ma \u001b[36m0:00:01\u001b[0m\n",
      "\u001b[?25hDownloading joblib-1.4.2-py3-none-any.whl (301 kB)\n",
      "Downloading scipy-1.14.1-cp312-cp312-macosx_14_0_arm64.whl (23.1 MB)\n",
      "\u001b[2K   \u001b[90m━━━━━━━━━━━━━━━━━━━━━━━━━━━━━━━━━━━━━━━━\u001b[0m \u001b[32m23.1/23.1 MB\u001b[0m \u001b[31m6.8 MB/s\u001b[0m eta \u001b[36m0:00:00\u001b[0ma \u001b[36m0:00:01\u001b[0m\n",
      "\u001b[?25hDownloading threadpoolctl-3.5.0-py3-none-any.whl (18 kB)\n",
      "Installing collected packages: threadpoolctl, scipy, joblib, scikit-learn\n",
      "Successfully installed joblib-1.4.2 scikit-learn-1.5.2 scipy-1.14.1 threadpoolctl-3.5.0\n"
     ]
    }
   ],
   "source": [
    "! pip install scikit-learn"
   ]
  },
  {
   "cell_type": "code",
   "execution_count": 43,
   "metadata": {},
   "outputs": [],
   "source": [
    "from langchain.retrievers import SVMRetriever\n",
    "from langchain.retrievers import TFIDFRetriever\n",
    "from langchain.document_loaders import PyPDFLoader\n",
    "from langchain.text_splitter import RecursiveCharacterTextSplitter"
   ]
  },
  {
   "cell_type": "code",
   "execution_count": 44,
   "metadata": {},
   "outputs": [],
   "source": [
    "# Load PDF\n",
    "loader = PyPDFLoader(\"assets/1.Commerce-undergrad.pdf\")\n",
    "pages = loader.load()\n",
    "all_page_text=[p.page_content for p in pages]\n",
    "joined_page_text=\" \".join(all_page_text)\n",
    "\n",
    "# Split\n",
    "text_splitter = RecursiveCharacterTextSplitter(chunk_size = 1500,chunk_overlap = 150)\n",
    "splits = text_splitter.split_text(joined_page_text)\n"
   ]
  },
  {
   "cell_type": "code",
   "execution_count": 47,
   "metadata": {},
   "outputs": [],
   "source": [
    "# Retrieve\n",
    "svm_retriever = SVMRetriever.from_texts(splits,embedding)\n",
    "tfidf_retriever = TFIDFRetriever.from_texts(splits)"
   ]
  },
  {
   "cell_type": "code",
   "execution_count": 48,
   "metadata": {},
   "outputs": [
    {
     "data": {
      "text/plain": [
       "Document(metadata={}, page_content=\"surfaces. Partial derivatives, chain rule, maxima and minima, Lagrange multipliers. Gradient, divergence and curl.  Taylor's theorem for one \\nand several variables, Jacobians, Newton's method for several variables. Multiple integrals and change of variable. Surface i ntegrals. Line \\nintegrals, work done by a force, potentials. Green's theorem, divergence theorem, and Stok es' theorem.  \\nLecture times: Monday -Friday 1st period,  1 afternoon tutorial, optional additional mini -tutorials in 2nd or 3rd period  \\nDP requirements: 35% class record; attendance of tutorials  \\nAssessment: One paper written in June or November no longer than 2.5 hours: up to 80%, year mark: up to 40%.  \\n \\nMAM2085S     VECTOR CALCULUS FOR ASPECT  \\n16 NQF credits at NQF level 6  \\nConvener: Associate Professor P Padayachee  \\nCourse entry requirements: MAM1023 and MAM1024  \\nCourse outline:  \\nThis course aims to develop an understanding of vector calculus. Topics include: differentiation of vector valued functions, space curves and \\nsurfaces. Partial derivatives, chain rule, maxima and minima, Lagrange multipliers. Gradient, divergence and curl.  Taylor's theorem for one \\nand several variables, Jacobians, Newton's method for several variables. Multiple integrals and change of variable. Surface i ntegrals. Line \\nintegrals, work done by a force, potentials. Green's theorem, divergence theorem, and Stok es' theorem.\")"
      ]
     },
     "execution_count": 48,
     "metadata": {},
     "output_type": "execute_result"
    }
   ],
   "source": [
    "question = \"What are major topics for this class?\"\n",
    "docs_svm=svm_retriever.get_relevant_documents(question)\n",
    "docs_svm[0]"
   ]
  },
  {
   "cell_type": "code",
   "execution_count": 49,
   "metadata": {},
   "outputs": [
    {
     "data": {
      "text/plain": [
       "Document(metadata={}, page_content=\"Mathematics.  \\n   Departments offering courses to the Faculty of Commerce  164 \\nDEPARTMENT OF PHILOSOPHY  \\n \\nPHI1010S     ETHICS  \\nThis course may also be offered in Summer/ Winter Term for limited numbers of students - please consult the department.  \\n18 NQF credits at NQF level 5  \\nConvener: O Mogomotsi  \\nCourse entry requirements: None  \\nCourse outline:  \\nThis course introduces students to moral philosophy and to the questions it asks. These may include: What makes an action rig ht? Is morality \\nrelative (to one's own views or to one's culture) or is it objective? What is the relationship between religion and  ethics? What is it to be a good \\nperson?  \\nLecture times: Monday, Tuesday, Wednesday, 5th period.  \\nDP requirements: Regular attendance at lectures and tutorials; completion of all tests, submission of all essays and assignments by due dates,  \\nand an average mark of at least 35% for the coursework.  \\nAssessment: Coursework counts 40%; one 3 -hour examination in October/November counts 60%.  \\n \\nPHI1011S     ETHICS +  \\n10 NQF credits at NQF level 5  \\nConvener: TBA  \\nObjective: In these tutorials, students will receive explicit support around the co -requisite course assignments and detailed feedback on their \\nwritten work.  \\nCourse outline:  \\nThe purpose of this course is to augment and support its co -requisite course: PHI1010S Ethics. It aims to improve students’ performance by\")"
      ]
     },
     "execution_count": 49,
     "metadata": {},
     "output_type": "execute_result"
    }
   ],
   "source": [
    "question = \"What are major topics for this class?\"\n",
    "docs_tfidf=tfidf_retriever.get_relevant_documents(question)\n",
    "docs_tfidf[0]"
   ]
  },
  {
   "cell_type": "code",
   "execution_count": null,
   "metadata": {},
   "outputs": [],
   "source": []
  }
 ],
 "metadata": {
  "kernelspec": {
   "display_name": "langEnv",
   "language": "python",
   "name": "python3"
  },
  "language_info": {
   "codemirror_mode": {
    "name": "ipython",
    "version": 3
   },
   "file_extension": ".py",
   "mimetype": "text/x-python",
   "name": "python",
   "nbconvert_exporter": "python",
   "pygments_lexer": "ipython3",
   "version": "3.12.5"
  }
 },
 "nbformat": 4,
 "nbformat_minor": 2
}

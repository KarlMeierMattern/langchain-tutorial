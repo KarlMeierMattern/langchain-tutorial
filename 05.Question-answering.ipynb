{
 "cells": [
  {
   "cell_type": "markdown",
   "metadata": {},
   "source": [
    "# **05. Question Answering**"
   ]
  },
  {
   "cell_type": "code",
   "execution_count": 1,
   "metadata": {},
   "outputs": [],
   "source": [
    "import os\n",
    "import openai\n",
    "import sys\n",
    "sys.path.append('../..')\n",
    "\n",
    "from dotenv import load_dotenv, find_dotenv\n",
    "_ = load_dotenv(find_dotenv()) # read local .env file\n",
    "\n",
    "openai.api_key  = os.environ['OPENAI_API_KEY']"
   ]
  },
  {
   "cell_type": "code",
   "execution_count": 13,
   "metadata": {},
   "outputs": [],
   "source": [
    "from langchain.vectorstores import Chroma\n",
    "from langchain.embeddings.openai import OpenAIEmbeddings\n",
    "persist_directory = 'docs/chroma/'\n",
    "embedding = OpenAIEmbeddings()\n",
    "vectordb = Chroma(persist_directory=persist_directory, embedding_function=embedding)"
   ]
  },
  {
   "cell_type": "code",
   "execution_count": 14,
   "metadata": {},
   "outputs": [
    {
     "name": "stdout",
     "output_type": "stream",
     "text": [
      "6087\n"
     ]
    }
   ],
   "source": [
    "print(vectordb._collection.count())"
   ]
  },
  {
   "cell_type": "code",
   "execution_count": 42,
   "metadata": {},
   "outputs": [
    {
     "data": {
      "text/plain": [
       "4"
      ]
     },
     "execution_count": 42,
     "metadata": {},
     "output_type": "execute_result"
    }
   ],
   "source": [
    "question = \"what undergraduate degress are available to study computer science?\"\n",
    "docs = vectordb.similarity_search(question,k=4)\n",
    "len(docs)"
   ]
  },
  {
   "cell_type": "code",
   "execution_count": 35,
   "metadata": {},
   "outputs": [
    {
     "name": "stdout",
     "output_type": "stream",
     "text": [
      "PROGRAMMES OF STUDY    63 \n",
      "even from within the EBE Faculty. We suggest that you choose something that interests you and you \n",
      "would like to explore and/or that you think may be useful once you graduat\n"
     ]
    }
   ],
   "source": [
    "print(docs[0].page_content[0:200])"
   ]
  },
  {
   "cell_type": "code",
   "execution_count": 37,
   "metadata": {},
   "outputs": [],
   "source": [
    "from langchain_openai import ChatOpenAI\n",
    "llm = ChatOpenAI(model_name=\"gpt-3.5-turbo\", temperature=0)"
   ]
  },
  {
   "cell_type": "markdown",
   "metadata": {},
   "source": [
    "### **Retrieval Q&A chain**\n",
    "\n",
    "\n",
    "\n"
   ]
  },
  {
   "cell_type": "markdown",
   "metadata": {},
   "source": [
    "**Process:**\n",
    "- Question searches the vectore store and returns a set of documents (relevant splits) that are most similar. This is then used to generate a system prompt for an LLM.  \n",
    "- System prompt + original question is then fed into an LLM to answer the question.  \n",
    "\n",
    "By default we pass all this info into a single context window (using \"Stuffs\" method). However, when the qunatum of documents becomes very large, this can be challenging. Alternative approaches:  \n",
    "1. Map_reduce  \n",
    "2. Refine   \n",
    "3. Map_rank  "
   ]
  },
  {
   "cell_type": "code",
   "execution_count": 38,
   "metadata": {},
   "outputs": [],
   "source": [
    "from langchain.chains import RetrievalQA"
   ]
  },
  {
   "cell_type": "code",
   "execution_count": 39,
   "metadata": {},
   "outputs": [],
   "source": [
    "qa_chain = RetrievalQA.from_chain_type(\n",
    "    llm,\n",
    "    retriever=vectordb.as_retriever()\n",
    ")"
   ]
  },
  {
   "cell_type": "code",
   "execution_count": 43,
   "metadata": {},
   "outputs": [],
   "source": [
    "result = qa_chain({\"query\": question})"
   ]
  },
  {
   "cell_type": "code",
   "execution_count": 45,
   "metadata": {},
   "outputs": [
    {
     "name": "stdout",
     "output_type": "stream",
     "text": [
      "At the University of Cape Town, undergraduate degrees available to study Computer Science include a Bachelor of Science (BSc) majoring in Computer Science and a Bachelor of Business Science specialising in Information Systems.\n"
     ]
    }
   ],
   "source": [
    "print(result[\"result\"])"
   ]
  },
  {
   "cell_type": "markdown",
   "metadata": {},
   "source": [
    "## **Prompt Template**"
   ]
  },
  {
   "cell_type": "code",
   "execution_count": 47,
   "metadata": {},
   "outputs": [],
   "source": [
    "from langchain.prompts import PromptTemplate\n",
    "\n",
    "# Build prompt\n",
    "template = \"\"\"Use the following pieces of context to answer the question at the end. If you don't know the answer, just say that you don't know, don't try to make up an answer. Use three sentences maximum. Keep the answer as concise as possible. Always say \"thanks for asking!\" at the end of the answer. \n",
    "{context}\n",
    "Question: {question}\n",
    "Helpful Answer:\"\"\"\n",
    "\n",
    "QA_CHAIN_PROMPT = PromptTemplate.from_template(template)\n"
   ]
  },
  {
   "cell_type": "code",
   "execution_count": 48,
   "metadata": {},
   "outputs": [],
   "source": [
    "# Run chain\n",
    "qa_chain = RetrievalQA.from_chain_type(\n",
    "    llm,\n",
    "    retriever=vectordb.as_retriever(),\n",
    "    return_source_documents=True,\n",
    "    chain_type_kwargs={\"prompt\": QA_CHAIN_PROMPT}\n",
    ")"
   ]
  },
  {
   "cell_type": "code",
   "execution_count": 63,
   "metadata": {},
   "outputs": [],
   "source": [
    "question = \"List all the computer science courses that are available to study\""
   ]
  },
  {
   "cell_type": "code",
   "execution_count": 64,
   "metadata": {},
   "outputs": [],
   "source": [
    "result = qa_chain({\"query\": question})"
   ]
  },
  {
   "cell_type": "code",
   "execution_count": 65,
   "metadata": {},
   "outputs": [
    {
     "data": {
      "text/plain": [
       "'Computer Science 1010, Human Computer Interaction, Artificial Intelligence, Network and Internetwork Security, Computer Game Design, High Performance Computing, Introduction to Computer Graphics. Thanks for asking!'"
      ]
     },
     "execution_count": 65,
     "metadata": {},
     "output_type": "execute_result"
    }
   ],
   "source": [
    "result[\"result\"]"
   ]
  },
  {
   "cell_type": "code",
   "execution_count": 66,
   "metadata": {},
   "outputs": [
    {
     "data": {
      "text/plain": [
       "Document(metadata={'page': 52, 'source': 'assets/1.Commerce-undergrad.pdf'}, page_content='Computer Science major courses and at least 55% for each course to be considered for a place in 4th year Computer Science courses. \\nPlaces may be limited. Students who do not qualify for admission to 4th year Computer Science courses will be required to change their \\nspecialisation or degree in consultation with the Head of Department and the Deputy Dean Undergraduate Studies  of Commerce.  \\n \\n \\nBachelor of Business Science specialising in Information Systems [CB0 15INF01]  \\n \\nFirst Year Core Modules  \\nCode  Course  NQF Credits  NQF Level  \\nCML1001F  Business Law I  ................................ ................................ .............  18 5 \\nDOC1103H  Skills for Commerce  ................................ ................................ ...... 2 5 \\nINF1102F  Foundations of Information Systems  ................................ ............  18 5 \\n  OR ................................ ................................ ................................ ..     \\nCSC1010H  Computer Science 1010*  ................................ .............................  18 5 \\nECO1110F  Microeconomics  ................................ ................................ ...........  18 5 \\nMAM1110H  Mathematics 1010  ................................ ................................ ........  18 5 \\nBUS1036S  Evidence -based Management  ................................ .......................  18 5')"
      ]
     },
     "execution_count": 66,
     "metadata": {},
     "output_type": "execute_result"
    }
   ],
   "source": [
    "result[\"source_documents\"][0]"
   ]
  },
  {
   "cell_type": "markdown",
   "metadata": {},
   "source": [
    "## **Map Reduce**\n",
    "Each individual document is processed by an LLM to generate an answer. The LLM then takes the answers and generates a final answer. Involves many more calls to the LLM than the previous method + it's slower + result may be less accurate as it answers based on each individual document and loses context.  "
   ]
  },
  {
   "cell_type": "code",
   "execution_count": 67,
   "metadata": {},
   "outputs": [],
   "source": [
    "qa_chain_mr = RetrievalQA.from_chain_type(\n",
    "    llm,\n",
    "    retriever=vectordb.as_retriever(),\n",
    "    chain_type=\"map_reduce\"\n",
    ")"
   ]
  },
  {
   "cell_type": "code",
   "execution_count": 68,
   "metadata": {},
   "outputs": [
    {
     "name": "stderr",
     "output_type": "stream",
     "text": [
      "/opt/miniconda3/envs/langEnv/lib/python3.12/site-packages/langchain_openai/chat_models/base.py:358: UserWarning: Unexpected type for token usage: <class 'NoneType'>\n",
      "  warnings.warn(f\"Unexpected type for token usage: {type(new_usage)}\")\n"
     ]
    }
   ],
   "source": [
    "result = qa_chain_mr({\"query\": question})"
   ]
  },
  {
   "cell_type": "code",
   "execution_count": 69,
   "metadata": {},
   "outputs": [
    {
     "data": {
      "text/plain": [
       "'The available computer science courses to study are:\\n1. CSC1010H Computer Science 1010\\n2. CSC4024Z Human Computer Interaction\\n3. CSC4025Z Artificial Intelligence\\n4. CSC4026Z Network and Internetwork Security\\n5. CSC4027Z Computer Game Design\\n6. CSC4028Z High Performance Computing\\n7. CSC4029Z Introduction to Computer Graphics'"
      ]
     },
     "execution_count": 69,
     "metadata": {},
     "output_type": "execute_result"
    }
   ],
   "source": [
    "result[\"result\"]"
   ]
  },
  {
   "cell_type": "markdown",
   "metadata": {},
   "source": [
    "## **Refine**\n",
    "The refine chain allows you to combine information, albeit sequentially, and allows for carry over of information from one LLM call to the next.  "
   ]
  },
  {
   "cell_type": "code",
   "execution_count": 70,
   "metadata": {},
   "outputs": [
    {
     "data": {
      "text/plain": [
       "'Based on the additional context provided, the Computer Science major courses available to study are:\\n\\n1. CSC1010H - Computer Science 1010\\n2. CSC4024Z - Human Computer Interaction\\n3. CSC4025Z - Artificial Intelligence\\n4. CSC4026Z - Network and Internetwork Security\\n5. CSC4027Z - Computer Game Design\\n6. CSC4028Z - High Performance Computing\\n7. CSC4029Z - Introduction to Computer Graphics\\n\\nStudents must achieve at least 55% in each course to be considered for a place in 4th-year Computer Science courses. Places may be limited, and students who do not qualify for admission to 4th-year Computer Science courses will be required to change their specialization or degree in consultation with the Head of Department and the Deputy Dean Undergraduate Studies of Commerce.'"
      ]
     },
     "execution_count": 70,
     "metadata": {},
     "output_type": "execute_result"
    }
   ],
   "source": [
    "qa_chain_mr = RetrievalQA.from_chain_type(\n",
    "    llm,\n",
    "    retriever=vectordb.as_retriever(),\n",
    "    chain_type=\"refine\"\n",
    ")\n",
    "result = qa_chain_mr({\"query\": question})\n",
    "result[\"result\"]"
   ]
  }
 ],
 "metadata": {
  "kernelspec": {
   "display_name": "langEnv",
   "language": "python",
   "name": "python3"
  },
  "language_info": {
   "codemirror_mode": {
    "name": "ipython",
    "version": 3
   },
   "file_extension": ".py",
   "mimetype": "text/x-python",
   "name": "python",
   "nbconvert_exporter": "python",
   "pygments_lexer": "ipython3",
   "version": "3.12.5"
  }
 },
 "nbformat": 4,
 "nbformat_minor": 2
}
